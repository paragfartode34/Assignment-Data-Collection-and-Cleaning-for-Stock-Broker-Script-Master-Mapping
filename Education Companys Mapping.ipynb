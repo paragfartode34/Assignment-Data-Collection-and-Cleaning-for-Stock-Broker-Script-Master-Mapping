{
 "cells": [
  {
   "cell_type": "code",
   "execution_count": 5,
   "id": "feb528a7-3ad3-4e8c-bcb6-d25628c6a2a8",
   "metadata": {},
   "outputs": [],
   "source": [
    "import pandas as pd\n",
    "# Education Companys \n",
    "\n",
    "# Define the header and data for the DataFrame\n",
    "header = [\n",
    "    \"Common Script Name\", \"Fyers Script Name\", \"Angel One Script Name\", \n",
    "    \"ICICI Script Name\", \"Kotak Script Name\", \"Zerodha Script Name\", \n",
    "    \"Script Symbol\", \"Instrument Type\", \"Exchange\", \n",
    "    \"Fyers ISIN\", \"Angel ISIN\", \"ICICI ISIN\", \n",
    "    \"Kotak ISIN\", \"Zerodha ISIN\", \"Fyers BSE Code\", \n",
    "    \"Angel BSE Code\", \"ICICI BSE Code\", \"52-Week High\", \n",
    "    \"52-Week Low\", \"Avg Daily Volume\", \"Fyers Last Traded Price\", \n",
    "    \"Angel Last Traded Price\", \"Fyers P/E Ratio\", \"Angel P/E Ratio\", \n",
    "    \"Market Sector\", \"Currency\", \"Country\", \"Listing Date\", \n",
    "    \"Dividend Yield\", \"Beta\", \"Annualized Volatility\"\n",
    "]\n",
    "\n",
    "# Sample data for the DataFrame\n",
    "data = [\n",
    "    [\"Byju's\", \"BYJUIN\", \"BYJUANGEL\", \"BYJUICICI\", \"BYJUKOTAK\", \"BYJUZERODHA\", \"BYJU\", \"Equity\", \"NSE\", \n",
    "     \"INE12345678\", \"INE23456789\", \"INE34567890\", \"INE45678901\", \"INE56789012\", \"54321\", \"54322\", \n",
    "     \"54323\", \"500\", \"300\", \"100000\", \"450\", \"460\", \"30\", \"32\", \"Education\", \"INR\", \"India\", \n",
    "     \"2020-01-01\", \"1.5\", \"1.2\", \"0.25\"],\n",
    "    [\"NIIT\", \"NIITIN\", \"NIITANGEL\", \"NIITICICI\", \"NIITKOTAK\", \"NIITZERODHA\", \"NIIT\", \"Equity\", \"NSE\", \n",
    "     \"INE12345679\", \"INE23456780\", \"INE34567891\", \"INE45678902\", \"INE56789013\", \"54324\", \"54325\", \n",
    "     \"54326\", \"700\", \"500\", \"150000\", \"650\", \"660\", \"28\", \"29\", \"Education\", \"INR\", \"India\", \n",
    "     \"2020-01-01\", \"2.0\", \"1.3\", \"0.30\"],\n",
    "    [\"Zee Learn\", \"ZEELIN\", \"ZEELANGEL\", \"ZEELICICI\", \"ZEELKOTAK\", \"ZEELZERODHA\", \"ZEEL\", \"Equity\", \"NSE\", \n",
    "     \"INE12345680\", \"INE23456781\", \"INE34567892\", \"INE45678903\", \"INE56789014\", \"54327\", \"54328\", \n",
    "     \"54329\", \"800\", \"600\", \"120000\", \"750\", \"760\", \"27\", \"26\", \"Education\", \"INR\", \"India\", \n",
    "     \"2020-01-01\", \"2.5\", \"1.4\", \"0.28\"],\n",
    "    [\"Educomp Solutions\", \"EDUCOMPIN\", \"EDUCOMPANGEL\", \"EDUCOMPICICI\", \"EDUCOMPKOTAK\", \"EDUCOMPZERODHA\", \"EDUCOMP\", \"Equity\", \"NSE\", \n",
    "     \"INE12345681\", \"INE23456782\", \"INE34567893\", \"INE45678904\", \"INE56789015\", \"54330\", \"54331\", \n",
    "     \"54332\", \"600\", \"400\", \"80000\", \"550\", \"560\", \"24\", \"25\", \"Education\", \"INR\", \"India\", \n",
    "     \"2020-01-01\", \"1.0\", \"1.1\", \"0.20\"],\n",
    "    [\"Pearson India\", \"PEARSONIN\", \"PEARSONANGEL\", \"PEARSONICICI\", \"PEARSONKOTAK\", \"PEARSONZERODHA\", \"PEARSON\", \"Equity\", \"NSE\", \n",
    "     \"INE12345682\", \"INE23456783\", \"INE34567894\", \"INE45678905\", \"INE56789016\", \"54333\", \"54334\", \n",
    "     \"54335\", \"900\", \"700\", \"95000\", \"850\", \"860\", \"29\", \"30\", \"Education\", \"INR\", \"India\", \n",
    "     \"2020-01-01\", \"1.8\", \"1.0\", \"0.22\"]\n",
    "]\n",
    "\n",
    "# Create a DataFrame and save it to an Excel file\n",
    "df = pd.DataFrame(data, columns=header)\n",
    "\n",
    "# Saving DataFrame to Excel\n",
    "df.to_excel('Education_companies_mapping.xlsx', index=False) \n",
    "\n"
   ]
  },
  {
   "cell_type": "code",
   "execution_count": null,
   "id": "b3c601b7-8c5c-483b-88fc-9bd6aa63987a",
   "metadata": {},
   "outputs": [],
   "source": []
  }
 ],
 "metadata": {
  "kernelspec": {
   "display_name": "Python 3 (ipykernel)",
   "language": "python",
   "name": "python3"
  },
  "language_info": {
   "codemirror_mode": {
    "name": "ipython",
    "version": 3
   },
   "file_extension": ".py",
   "mimetype": "text/x-python",
   "name": "python",
   "nbconvert_exporter": "python",
   "pygments_lexer": "ipython3",
   "version": "3.11.7"
  }
 },
 "nbformat": 4,
 "nbformat_minor": 5
}
