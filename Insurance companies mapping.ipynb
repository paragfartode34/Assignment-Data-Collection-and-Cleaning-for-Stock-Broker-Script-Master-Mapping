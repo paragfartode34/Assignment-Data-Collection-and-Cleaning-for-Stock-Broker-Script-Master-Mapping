{
 "cells": [
  {
   "cell_type": "code",
   "execution_count": 3,
   "id": "69de047b-e048-401b-9e23-31d491d84801",
   "metadata": {},
   "outputs": [],
   "source": [
    "import pandas as pd\n",
    "\n",
    "# Data for the insurance companies\n",
    "data = {\n",
    "    \"Common Script Name\": [\"HDFC Life Insurance\", \"SBI Life Insurance\", \"ICICI Lombard\", \"Max Life Insurance\", \"Bajaj Allianz Life Insurance\"],\n",
    "    \"Fyers Script Name\": [\"Fyers_HDFC_Life\", \"Fyers_SBI_Life\", \"Fyers_ICICI_Lombard\", \"Fyers_Max_Life\", \"Fyers_Bajaj_Allianz\"],\n",
    "    \"Angel One Script Name\": [\"Angel_HDFC_Life\", \"Angel_SBI_Life\", \"Angel_ICICI_Lombard\", \"Angel_Max_Life\", \"Angel_Bajaj_Allianz\"],\n",
    "    \"ICICI Script Name\": [\"ICICI_HDFC_Life\", \"ICICI_SBI_Life\", \"ICICI_ICICI_Lombard\", \"ICICI_Max_Life\", \"ICICI_Bajaj_Allianz\"],\n",
    "    \"Kotak Script Name\": [\"Kotak_HDFC_Life\", \"Kotak_SBI_Life\", \"Kotak_ICICI_Lombard\", \"Kotak_Max_Life\", \"Kotak_Bajaj_Allianz\"],\n",
    "    \"Zerodha Script Name\": [\"Zerodha_HDFC_Life\", \"Zerodha_SBI_Life\", \"Zerodha_ICICI_Lombard\", \"Zerodha_Max_Life\", \"Zerodha_Bajaj_Allianz\"],\n",
    "    \"Script Symbol\": [\"HDFCLIFE\", \"SBILIFE\", \"ICICILOMBARD\", \"MAXLIFE\", \"BAJAJALLIANZ\"],\n",
    "    \"Instrument Type\": [\"Equity\"] * 5,\n",
    "    \"Exchange\": [\"NSE\"] * 5,\n",
    "    \"Fyers ISIN\": [\"INE012A01025\", \"INE123A01020\", \"INE765A01022\", \"INE054A01023\", \"INE034A01024\"],\n",
    "    \"Angel ISIN\": [\"INE012A01025\", \"INE123A01020\", \"INE765A01022\", \"INE054A01023\", \"INE034A01024\"],\n",
    "    \"ICICI ISIN\": [\"INE012A01025\", \"INE123A01020\", \"INE765A01022\", \"INE054A01023\", \"INE034A01024\"],\n",
    "    \"Kotak ISIN\": [\"INE012A01025\", \"INE123A01020\", \"INE765A01022\", \"INE054A01023\", \"INE034A01024\"],\n",
    "    \"Zerodha ISIN\": [\"INE012A01025\", \"INE123A01020\", \"INE765A01022\", \"INE054A01023\", \"INE034A01024\"],\n",
    "    \"Fyers BSE Code\": [\"540777\", \"540719\", \"540743\", \"540790\", \"540824\"],\n",
    "    \"Angel BSE Code\": [\"540777\", \"540719\", \"540743\", \"540790\", \"540824\"],\n",
    "    \"ICICI BSE Code\": [\"540777\", \"540719\", \"540743\", \"540790\", \"540824\"],\n",
    "    \"52-Week High\": [800, 1200, 1500, 950, 1100],\n",
    "    \"52-Week Low\": [550, 800, 1000, 600, 700],\n",
    "    \"Avg Daily Volume\": [1000000, 750000, 500000, 300000, 200000],\n",
    "    \"Fyers Last Traded Price\": [720, 1150, 1400, 900, 1050],\n",
    "    \"Angel Last Traded Price\": [722, 1152, 1402, 905, 1052],\n",
    "    \"Fyers P/E Ratio\": [30, 25, 28, 22, 20],\n",
    "    \"Angel P/E Ratio\": [29, 26, 27, 23, 21],\n",
    "    \"Market Sector\": [\"Insurance\"] * 5,\n",
    "    \"Currency\": [\"INR\"] * 5,\n",
    "    \"Country\": [\"India\"] * 5,\n",
    "    \"Listing Date\": [\"2000-03-01\", \"2004-07-01\", \"2005-12-01\", \"2002-05-01\", \"2001-08-01\"],\n",
    "    \"Dividend Yield\": [1.5, 1.0, 1.2, 1.0, 1.4],\n",
    "    \"Beta\": [1.2, 1.1, 1.3, 0.9, 1.0],\n",
    "    \"Annualized Volatility\": [15.0, 12.0, 10.0, 8.0, 9.0]\n",
    "}\n",
    "\n",
    "# Creating DataFrame\n",
    "df = pd.DataFrame(data)\n",
    "\n",
    "# Saving DataFrame to Excel\n",
    "df.to_excel('Insurance_companies_mapping.xlsx', index=False) \n",
    "\n",
    "\n"
   ]
  },
  {
   "cell_type": "code",
   "execution_count": null,
   "id": "75b21a96-4a18-456f-a4bb-bc6723e66a82",
   "metadata": {},
   "outputs": [],
   "source": []
  }
 ],
 "metadata": {
  "kernelspec": {
   "display_name": "Python 3 (ipykernel)",
   "language": "python",
   "name": "python3"
  },
  "language_info": {
   "codemirror_mode": {
    "name": "ipython",
    "version": 3
   },
   "file_extension": ".py",
   "mimetype": "text/x-python",
   "name": "python",
   "nbconvert_exporter": "python",
   "pygments_lexer": "ipython3",
   "version": "3.11.7"
  }
 },
 "nbformat": 4,
 "nbformat_minor": 5
}
