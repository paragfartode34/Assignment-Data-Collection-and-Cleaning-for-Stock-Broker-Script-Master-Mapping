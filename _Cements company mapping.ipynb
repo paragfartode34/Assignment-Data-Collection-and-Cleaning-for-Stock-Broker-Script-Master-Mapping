{
 "cells": [
  {
   "cell_type": "code",
   "execution_count": 3,
   "id": "15b0afa7-98e1-4253-aa40-99564750b7e1",
   "metadata": {},
   "outputs": [
    {
     "name": "stdout",
     "output_type": "stream",
     "text": [
      "Excel file 'cement_companies_data.xlsx' created successfully!\n"
     ]
    }
   ],
   "source": [
    "import pandas as pd\n",
    "\n",
    "# Define Cements companies\n",
    "data = {\n",
    "    \"Common Script Name\": [\"Ultratech Cement\", \"ACC Limited\", \"Ambuja Cements\", \"Dalmia Bharat\", \"Shree Cement\"],\n",
    "    \"Fyers Script Name\": [\"UTCEM\", \"ACC\", \"AMBUJACEM\", \"DALBHARAT\", \"SHREECEM\"],\n",
    "    \"Angel One Script Name\": [\"ULTIMATE\", \"ACC\", \"AMBUJA CEM\", \"DALMIA CEM\", \"SHREE CEM\"],\n",
    "    \"ICICI Script Name\": [\"UTCEM\", \"ACC\", \"AMBUJACEM\", \"DALBHARAT\", \"SHREECEM\"],\n",
    "    \"Kotak Script Name\": [\"UTCEM\", \"ACC\", \"AMBUJACEM\", \"DALBHARAT\", \"SHREECEM\"],\n",
    "    \"Zerodha Script Name\": [\"UTCEM\", \"ACC\", \"AMBUJACEM\", \"DALBHARAT\", \"SHREECEM\"],\n",
    "    \"Script Symbol\": [\"UTCEM\", \"ACC\", \"AMBUJACEM\", \"DALBHARAT\", \"SHREECEM\"],\n",
    "    \"Instrument Type\": [\"Equity\"] * 5,\n",
    "    \"Exchange\": [\"BSE\"] * 5,\n",
    "    \"Fyers ISIN\": [\"INE481G01011\", \"INE007A01021\", \"INE079A01024\", \"INE144A01030\", \"INE070A01031\"],\n",
    "    \"Angel ISIN\": [\"INE481G01011\", \"INE007A01021\", \"INE079A01024\", \"INE144A01030\", \"INE070A01031\"],\n",
    "    \"ICICI ISIN\": [\"INE481G01011\", \"INE007A01021\", \"INE079A01024\", \"INE144A01030\", \"INE070A01031\"],\n",
    "    \"Kotak ISIN\": [\"INE481G01011\", \"INE007A01021\", \"INE079A01024\", \"INE144A01030\", \"INE070A01031\"],\n",
    "    \"Zerodha ISIN\": [\"INE481G01011\", \"INE007A01021\", \"INE079A01024\", \"INE144A01030\", \"INE070A01031\"],\n",
    "    \"Fyers BSE Code\": [\"540867\", \"500410\", \"500425\", \"542216\", \"512163\"],\n",
    "    \"Angel BSE Code\": [\"540867\", \"500410\", \"500425\", \"542216\", \"512163\"],\n",
    "    \"ICICI BSE Code\": [\"540867\", \"500410\", \"500425\", \"542216\", \"512163\"],\n",
    "    \"52-Week High\": [7500.00, 2200.00, 400.00, 3000.00, 30000.00],\n",
    "    \"52-Week Low\": [5000.00, 1600.00, 300.00, 2000.00, 20000.00],\n",
    "    \"Avg Daily Volume\": [1200000, 800000, 600000, 400000, 500000],\n",
    "    \"Fyers Last Traded Price\": [7400.00, 2100.00, 390.00, 2900.00, 29000.00],\n",
    "    \"Angel Last Traded Price\": [7420.00, 2110.00, 392.00, 2920.00, 29100.00],\n",
    "    \"Fyers P/E Ratio\": [28.00, 30.00, 25.00, 22.00, 40.00],\n",
    "    \"Angel P/E Ratio\": [27.50, 29.00, 24.00, 21.50, 39.50],\n",
    "    \"Market Sector\": [\"Cement\"] * 5,\n",
    "    \"Currency\": [\"INR\"] * 5,\n",
    "    \"Country\": [\"India\"] * 5,\n",
    "    \"Listing Date\": [\"2002-05-01\", \"2006-09-01\", \"2005-12-01\", \"2010-07-01\", \"2004-01-01\"],\n",
    "    \"Dividend Yield\": [0.50, 1.00, 0.80, 1.20, 1.50],\n",
    "    \"Beta\": [1.25, 0.85, 1.00, 1.10, 1.40],\n",
    "    \"Annualized Volatility\": [15.00, 12.00, 10.00, 8.00, 20.00],\n",
    "}\n",
    "\n",
    "# Create a DataFrame\n",
    "df = pd.DataFrame(data)\n",
    "\n",
    "# Save the DataFrame to an Excel file\n",
    "df.to_excel(\"cement_companies_mapping.xlsx\", index=False)\n",
    "\n",
    "print(\"Excel file 'cement_companies_data.xlsx' created successfully!\")\n"
   ]
  },
  {
   "cell_type": "code",
   "execution_count": null,
   "id": "59ecfafa-8522-45c2-ae1c-1aed2127eaaf",
   "metadata": {},
   "outputs": [],
   "source": []
  }
 ],
 "metadata": {
  "kernelspec": {
   "display_name": "Python 3 (ipykernel)",
   "language": "python",
   "name": "python3"
  },
  "language_info": {
   "codemirror_mode": {
    "name": "ipython",
    "version": 3
   },
   "file_extension": ".py",
   "mimetype": "text/x-python",
   "name": "python",
   "nbconvert_exporter": "python",
   "pygments_lexer": "ipython3",
   "version": "3.11.7"
  }
 },
 "nbformat": 4,
 "nbformat_minor": 5
}
