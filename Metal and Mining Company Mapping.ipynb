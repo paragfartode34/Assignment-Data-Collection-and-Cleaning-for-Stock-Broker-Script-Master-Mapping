{
 "cells": [
  {
   "cell_type": "code",
   "execution_count": 2,
   "id": "80fc1979-8f09-4ddd-9556-6ba454362413",
   "metadata": {},
   "outputs": [],
   "source": [
    "import pandas as pd\n",
    "\n",
    "# Data for metal and mining \n",
    "data = {\n",
    "    \"Common Script Name\": [\"Tata Steel\", \"JSW Steel\", \"Hindalco Industries\", \"NALCO\", \"Coal India Limited\"],\n",
    "    \"Fyers Script Name\": [\"TATASTEEL\", \"JSWSTEEL\", \"HINDALCO\", \"NALCO\", \"COALINDIA\"],\n",
    "    \"Angel One Script Name\": [\"TATASTEEL\", \"JSWSTEEL\", \"HINDALCO\", \"NALCO\", \"COALINDIA\"],\n",
    "    \"ICICI Script Name\": [\"TATASTEEL\", \"JSWSTEEL\", \"HINDALCO\", \"NALCO\", \"COALINDIA\"],\n",
    "    \"Kotak Script Name\": [\"TATASTEEL\", \"JSWSTEEL\", \"HINDALCO\", \"NALCO\", \"COALINDIA\"],\n",
    "    \"Zerodha Script Name\": [\"TATASTEEL\", \"JSWSTEEL\", \"HINDALCO\", \"NALCO\", \"COALINDIA\"],\n",
    "    \"Script Symbol\": [\"TATSTEEL\", \"JSWSTEEL\", \"HINDALCO\", \"NALCO\", \"COALINDIA\"],\n",
    "    \"Instrument Type\": [\"Equity\"] * 5,\n",
    "    \"Exchange\": [\"NSE\"] * 5,\n",
    "    \"Fyers ISIN\": [\"INE081A01012\", \"INE118A01024\", \"INE038A01024\", \"INE379A01014\", \"INE522F01014\"],\n",
    "    \"Angel ISIN\": [\"INE081A01012\", \"INE118A01024\", \"INE038A01024\", \"INE379A01014\", \"INE522F01014\"],\n",
    "    \"ICICI ISIN\": [\"INE081A01012\", \"INE118A01024\", \"INE038A01024\", \"INE379A01014\", \"INE522F01014\"],\n",
    "    \"Kotak ISIN\": [\"INE081A01012\", \"INE118A01024\", \"INE038A01024\", \"INE379A01014\", \"INE522F01014\"],\n",
    "    \"Zerodha ISIN\": [\"INE081A01012\", \"INE118A01024\", \"INE038A01024\", \"INE379A01014\", \"INE522F01014\"],\n",
    "    \"Fyers BSE Code\": [\"500470\", \"500228\", \"500440\", \"532234\", \"533278\"],\n",
    "    \"Angel BSE Code\": [\"500470\", \"500228\", \"500440\", \"532234\", \"533278\"],\n",
    "    \"ICICI BSE Code\": [\"500470\", \"500228\", \"500440\", \"532234\", \"533278\"],\n",
    "    \"52-Week High\": [123.00, 650.00, 550.00, 115.00, 300.00],\n",
    "    \"52-Week Low\": [98.00, 530.00, 470.00, 90.00, 220.00],\n",
    "    \"Avg Daily Volume\": [2000000, 1500000, 1200000, 800000, 3000000],\n",
    "    \"Fyers Last Traded Price\": [120.00, 610.00, 540.00, 110.00, 280.00],\n",
    "    \"Angel Last Traded Price\": [121.50, 612.50, 543.00, 112.50, 282.00],\n",
    "    \"Fyers P/E Ratio\": [14.5, 15.0, 12.0, 10.0, 9.5],\n",
    "    \"Angel P/E Ratio\": [14.3, 14.8, 11.8, 9.8, 9.0],\n",
    "    \"Market Sector\": [\"Metals\"] * 5,\n",
    "    \"Currency\": [\"INR\"] * 5,\n",
    "    \"Country\": [\"India\"] * 5,\n",
    "    \"Listing Date\": [\"2002-07-15\", \"2005-05-09\", \"2000-12-18\", \"1992-06-29\", \"2010-11-05\"],\n",
    "    \"Dividend Yield\": [4.5, 2.0, 3.5, 5.0, 6.0],\n",
    "    \"Beta\": [1.2, 1.1, 1.3, 1.0, 0.9],\n",
    "    \"Annualized Volatility\": [\"20%\", \"18%\", \"15%\", \"12%\", \"10%\"]\n",
    "}\n",
    "\n",
    "# Create DataFrame\n",
    "df = pd.DataFrame(data)\n",
    "\n",
    "# Save the DataFrame to an Excel file\n",
    "df.to_excel('Metal_and_mining_companies_mapping.xlsx', index=False)\n"
   ]
  },
  {
   "cell_type": "code",
   "execution_count": null,
   "id": "f100421c-610e-45af-9da2-fed1bf52c5fe",
   "metadata": {},
   "outputs": [],
   "source": []
  }
 ],
 "metadata": {
  "kernelspec": {
   "display_name": "Python 3 (ipykernel)",
   "language": "python",
   "name": "python3"
  },
  "language_info": {
   "codemirror_mode": {
    "name": "ipython",
    "version": 3
   },
   "file_extension": ".py",
   "mimetype": "text/x-python",
   "name": "python",
   "nbconvert_exporter": "python",
   "pygments_lexer": "ipython3",
   "version": "3.11.7"
  }
 },
 "nbformat": 4,
 "nbformat_minor": 5
}
